{
 "cells": [
  {
   "cell_type": "markdown",
   "metadata": {},
   "source": [
    "# Correlation Analysis"
   ]
  },
  {
   "cell_type": "markdown",
   "metadata": {},
   "source": [
    "## import libraries"
   ]
  },
  {
   "cell_type": "code",
   "execution_count": 1,
   "metadata": {},
   "outputs": [],
   "source": [
    "import os\n",
    "import sys\n",
    "import pandas as pd\n",
    "import yfinance as yf\n",
    "\n",
    "# import plotly as px\n",
    "\n",
    "# Dynamically add the absolute path to the project directory and scripts\n",
    "project_root = r\"C:\\Users\\hp\\Desktop\\10Academy\\Financial-News-and-Stock-Market-Analysis\"\n",
    "scripts_path = os.path.join(project_root, \"scripts\")\n",
    "\n",
    "sys.path.append(project_root)  # Add project root to sys.path\n",
    "sys.path.append(scripts_path)  # Add scripts directory to sys.path"
   ]
  },
  {
   "cell_type": "markdown",
   "metadata": {},
   "source": [
    "## Load data combine datas and save"
   ]
  },
  {
   "cell_type": "code",
   "execution_count": 2,
   "metadata": {},
   "outputs": [
    {
     "name": "stdout",
     "output_type": "stream",
     "text": [
      "Files to load: ['AAPL_historical_data.csv', 'AMZN_historical_data.csv', 'combined_historical_data.csv', 'GOOG_historical_data.csv', 'META_historical_data.csv', 'MSFT_historical_data.csv', 'NVDA_historical_data.csv', 'TSLA_historical_data.csv']\n"
     ]
    }
   ],
   "source": [
    "from scripts.load_stock_data import load_stock_data\n",
    "\n",
    "# Path to the data folder\n",
    "data_folder = '../Data/yfinance_data/'\n",
    "\n",
    "# Load and process the data\n",
    "combined_data = load_stock_data(data_folder)\n",
    "\n",
    "# Save the combined data to a CSV file\n",
    "combined_data.to_csv('../Data/yfinance_data/combined_historical_data.csv', index=False)"
   ]
  },
  {
   "cell_type": "code",
   "execution_count": 4,
   "metadata": {},
   "outputs": [
    {
     "name": "stdout",
     "output_type": "stream",
     "text": [
      "Index(['Date', 'Open', 'High', 'Low', 'Close', 'Adj Close', 'Volume',\n",
      "       'Dividends', 'Stock Splits', 'Ticker'],\n",
      "      dtype='object')\n"
     ]
    }
   ],
   "source": [
    "print(combined_data.columns)"
   ]
  },
  {
   "cell_type": "markdown",
   "metadata": {},
   "source": [
    "### Filter data within a specific date range"
   ]
  },
  {
   "cell_type": "code",
   "execution_count": 5,
   "metadata": {},
   "outputs": [
    {
     "name": "stdout",
     "output_type": "stream",
     "text": [
      "Filtered Data:            Date       Open       High        Low      Close  Adj Close  \\\n",
      "9847 2020-01-02  74.059998  75.150002  73.797501  75.087502  72.876099   \n",
      "9848 2020-01-03  74.287498  75.144997  74.125000  74.357498  72.167595   \n",
      "9849 2020-01-06  73.447502  74.989998  73.187500  74.949997  72.742661   \n",
      "9850 2020-01-07  74.959999  75.224998  74.370003  74.597504  72.400536   \n",
      "9851 2020-01-08  74.290001  76.110001  74.290001  75.797501  73.565208   \n",
      "\n",
      "         Volume  Dividends  Stock Splits Ticker  \n",
      "9847  135480400        0.0           0.0   AAPL  \n",
      "9848  146322800        0.0           0.0   AAPL  \n",
      "9849  118387200        0.0           0.0   AAPL  \n",
      "9850  108872000        0.0           0.0   AAPL  \n",
      "9851  132079200        0.0           0.0   AAPL  \n"
     ]
    }
   ],
   "source": [
    "\n",
    "filtered_data = combined_data[(combined_data['Date'] >= '2020-01-01') & (combined_data['Date'] <= '2022-12-31')]\n",
    "print(\"Filtered Data:\", filtered_data.head())"
   ]
  },
  {
   "cell_type": "code",
   "execution_count": 6,
   "metadata": {},
   "outputs": [],
   "source": [
    "# File paths\n",
    "combined_data_path = '../Data/yfinance_data/combined_historical_data.csv'\n",
    "news_data_path = '../Data/raw_analyst_ratings.csv'\n",
    "output_path = '../Data/task3_combined_sentiment_data.csv'\n",
    "\n",
    "# Load data\n",
    "combined_data = pd.read_csv(combined_data_path, parse_dates=['Date'])\n",
    "news_data = pd.read_csv(news_data_path)\n",
    "\n"
   ]
  },
  {
   "cell_type": "markdown",
   "metadata": {},
   "source": [
    "## normalize_dates"
   ]
  },
  {
   "cell_type": "code",
   "execution_count": 7,
   "metadata": {},
   "outputs": [
    {
     "name": "stdout",
     "output_type": "stream",
     "text": [
      "Parsing dates in the data...\n"
     ]
    }
   ],
   "source": [
    "combined_data['Date'] = pd.to_datetime(combined_data['Date'], format='ISO8601', errors='coerce')  # Handle malformed dates\n",
    "news_data['date'] = pd.to_datetime(news_data['date'], format='ISO8601', errors='coerce')  # Adjust for 'date' column in news\n",
    "print(\"Parsing dates in the data...\")"
   ]
  },
  {
   "cell_type": "markdown",
   "metadata": {},
   "source": [
    "## Merge datasets and save to data"
   ]
  },
  {
   "cell_type": "code",
   "execution_count": 8,
   "metadata": {},
   "outputs": [
    {
     "name": "stdout",
     "output_type": "stream",
     "text": [
      "Processing data for ticker: AAPL\n",
      "Processing data for ticker: AMZN\n",
      "Processing data for ticker: combined\n",
      "Processing data for ticker: GOOG\n",
      "Processing data for ticker: META\n",
      "Processing data for ticker: MSFT\n",
      "Processing data for ticker: NVDA\n",
      "Processing data for ticker: TSLA\n",
      "Combined data saved to ../Data/task3_combined_sentiment_data.csv\n"
     ]
    },
    {
     "name": "stderr",
     "output_type": "stream",
     "text": [
      "C:\\Users\\hp\\Desktop\\10Academy\\Financial-News-and-Stock-Market-Analysis\\scripts\\correlatonal_analyzer.py:170: FutureWarning: The behavior of DataFrame concatenation with empty or all-NA entries is deprecated. In a future version, this will no longer exclude empty or all-NA columns when determining the result dtypes. To retain the old behavior, exclude the relevant entries before the concat operation.\n",
      "  final_combined_data = pd.concat(results, ignore_index=True)\n"
     ]
    }
   ],
   "source": [
    "from scripts.correlatonal_analyzer import analyze_tickers\n",
    "# Analyze sentiment and stock movements\n",
    "analyze_tickers(combined_data, news_data, output_path)"
   ]
  },
  {
   "cell_type": "markdown",
   "metadata": {},
   "source": [
    "## correlation analysis for AAPL"
   ]
  },
  {
   "cell_type": "code",
   "execution_count": 9,
   "metadata": {},
   "outputs": [
    {
     "name": "stdout",
     "output_type": "stream",
     "text": [
      "AAPL Data:         Date      Open      High       Low     Close  Adj Close     Volume  \\\n",
      "0 1980-12-12  0.128348  0.128906  0.128348  0.128348   0.098943  469033600   \n",
      "1 1980-12-15  0.122210  0.122210  0.121652  0.121652   0.093781  175884800   \n",
      "2 1980-12-16  0.113281  0.113281  0.112723  0.112723   0.086898  105728000   \n",
      "3 1980-12-17  0.115513  0.116071  0.115513  0.115513   0.089049   86441600   \n",
      "4 1980-12-18  0.118862  0.119420  0.118862  0.118862   0.091630   73449600   \n",
      "\n",
      "   Dividends  Stock Splits Ticker  \n",
      "0        0.0           0.0   AAPL  \n",
      "1        0.0           0.0   AAPL  \n",
      "2        0.0           0.0   AAPL  \n",
      "3        0.0           0.0   AAPL  \n",
      "4        0.0           0.0   AAPL  \n"
     ]
    }
   ],
   "source": [
    "# Example: Filter data for a specific stock ticker ('AAPL')\n",
    "aapl_data = combined_data[combined_data['Ticker'] == 'AAPL']\n",
    "print(\"AAPL Data:\", aapl_data.head())"
   ]
  },
  {
   "cell_type": "code",
   "execution_count": 10,
   "metadata": {},
   "outputs": [
    {
     "name": "stdout",
     "output_type": "stream",
     "text": [
      "Random headlines for AAPL:\n",
      "1. Walmart Shortens Store Operating Hours In Response To Coronavirus Outbreak\n",
      "2. Apple Acquires DarkSky, Weather App To Be Pulled From Android\n",
      "3. Apple shares are trading higher despite market weakness, not currently seeing company-specific news. It was reported the company is expected to begin iPhone 12 production in July.\n",
      "4. Apple CEO Tim Cook \"We are confident in our future and continue to make significant investments in all areas of our business to enrich our customers' lives ... including our five-year commitment to contribute $350 billion to the United States Economy\"\n",
      "5. Bulls And Bears Of The Week: Amazon, Boeing, Disney, Netflix And More\n",
      "6. Loup Ventures Says Believes It Is Still Likely Apple Will Host A Fall 5G iPhone Launch; Notes China Manufacturing And Assembly, Including Some Apple Partners Are Starting To Ramp Up Production\n",
      "7. 88 Stocks Moving In Friday's Mid-Day Session\n",
      "8. Some Staples Stocks Bouncing Back After Sliding In Recent Rally As Caution Tightens Grip\n",
      "9. Apple CEO Tim Cook: Apple News Had 125M Users\n",
      "10. Apple Expects Stores To Start Re-Opening In First Half On April\n"
     ]
    }
   ],
   "source": [
    "from scripts.correlatonal_analyzer import generate_random_headlines\n",
    "\n",
    "# Generate random headlines for a specific ticker ('AAPL')\n",
    "ticker = 'AAPL'\n",
    "print(f\"Random headlines for {ticker}:\")\n",
    "random_headlines = generate_random_headlines(news_data, ticker, num_headlines=10)\n",
    "for idx, headline in enumerate(random_headlines, 1):\n",
    "    print(f\"{idx}. {headline}\")\n"
   ]
  },
  {
   "cell_type": "code",
   "execution_count": 12,
   "metadata": {},
   "outputs": [
    {
     "name": "stdout",
     "output_type": "stream",
     "text": [
      "Processing data for ticker: AAPL\n"
     ]
    }
   ],
   "source": [
    "from scripts.correlatonal_analyzer import process_ticker_data\n",
    "ticker = 'AAPL'\n",
    "print(f\"Processing data for ticker: {ticker}\")\n",
    "aapl_data = process_ticker_data(ticker, combined_data, news_data)\n"
   ]
  },
  {
   "cell_type": "code",
   "execution_count": 13,
   "metadata": {},
   "outputs": [
    {
     "name": "stdout",
     "output_type": "stream",
     "text": [
      "           Date      Close  Sentiment  Daily Returns\n",
      "0    2020-03-09  66.542503  -0.466667            NaN\n",
      "1    2020-03-09  66.542503   0.000000       0.000000\n",
      "2    2020-03-09  66.542503   0.000000       0.000000\n",
      "3    2020-03-10  71.334999   0.000000       0.072022\n",
      "4    2020-03-10  71.334999   0.000000       0.000000\n",
      "..          ...        ...        ...            ...\n",
      "410  2020-06-10  88.209999   0.000000       0.000000\n",
      "411  2020-06-10  88.209999   0.500000       0.000000\n",
      "412  2020-06-10  88.209999   0.000000       0.000000\n",
      "413  2020-06-10  88.209999   0.000000       0.000000\n",
      "414  2020-06-10  88.209999   0.068182       0.000000\n",
      "\n",
      "[415 rows x 4 columns]\n"
     ]
    }
   ],
   "source": [
    "print(aapl_data)"
   ]
  },
  {
   "cell_type": "code",
   "execution_count": 14,
   "metadata": {},
   "outputs": [
    {
     "name": "stdout",
     "output_type": "stream",
     "text": [
      "Analyzing correlations for AAPL...\n",
      "Correlation between Sentiment and Closing Prices: 0.0517\n"
     ]
    }
   ],
   "source": [
    "from scripts.correlatonal_analyzer import analyze_ticker_correlation\n",
    "\n",
    "# Analyze correlations for a specific ticker, e.g., 'AAPL'\n",
    "ticker = 'AAPL'\n",
    "print(f\"Analyzing correlations for {ticker}...\")\n",
    "correlations = analyze_ticker_correlation(ticker, combined_data, news_data)\n",
    "\n",
    "print(f\"Correlation between Sentiment and Closing Prices: {correlations['sentiment_close']:.4f}\")\n",
    "\n"
   ]
  },
  {
   "cell_type": "code",
   "execution_count": 15,
   "metadata": {},
   "outputs": [
    {
     "name": "stdout",
     "output_type": "stream",
     "text": [
      "Correlation between Sentiment and Daily Returns: 0.1556\n"
     ]
    }
   ],
   "source": [
    "print(f\"Correlation between Sentiment and Daily Returns: {correlations['sentiment_returns']:.4f}\")"
   ]
  },
  {
   "cell_type": "code",
   "execution_count": null,
   "metadata": {},
   "outputs": [],
   "source": [
    "correlation = combined_data['Sentiment'].corr(combined_data['Close'])\n",
    "print(\"Correlation between sentiment and closing:\", correlation)"
   ]
  },
  {
   "cell_type": "markdown",
   "metadata": {},
   "source": [
    "## correlation Analysis for AMZN "
   ]
  },
  {
   "cell_type": "code",
   "execution_count": 41,
   "metadata": {},
   "outputs": [
    {
     "name": "stdout",
     "output_type": "stream",
     "text": [
      "AMZN Data:             Date      Open      High       Low     Close  Adj Close  \\\n",
      "10998 1997-05-15  0.121875  0.125000  0.096354  0.097917   0.097917   \n",
      "10999 1997-05-16  0.098438  0.098958  0.085417  0.086458   0.086458   \n",
      "11000 1997-05-19  0.088021  0.088542  0.081250  0.085417   0.085417   \n",
      "11001 1997-05-20  0.086458  0.087500  0.081771  0.081771   0.081771   \n",
      "11002 1997-05-21  0.081771  0.082292  0.068750  0.071354   0.071354   \n",
      "\n",
      "           Volume  Dividends  Stock Splits Ticker  \n",
      "10998  1443120000        0.0           0.0   AMZN  \n",
      "10999   294000000        0.0           0.0   AMZN  \n",
      "11000   122136000        0.0           0.0   AMZN  \n",
      "11001   109344000        0.0           0.0   AMZN  \n",
      "11002   377064000        0.0           0.0   AMZN  \n"
     ]
    }
   ],
   "source": [
    "# Example: Filter data for a specific stock ticker ('AAPL')\n",
    "amzn_data = combined_data[combined_data['Ticker'] == 'AMZN']\n",
    "print(\"AMZN Data:\", amzn_data.head())"
   ]
  },
  {
   "cell_type": "code",
   "execution_count": 24,
   "metadata": {},
   "outputs": [
    {
     "name": "stdout",
     "output_type": "stream",
     "text": [
      "Processing data for ticker: AMZN\n"
     ]
    }
   ],
   "source": [
    "from scripts.correlatonal_analyzer import process_ticker_data\n",
    "ticker = 'AMZN'\n",
    "print(f\"Processing data for ticker: {ticker}\")\n",
    "amzn_data = process_ticker_data(ticker, combined_data, news_data)\n"
   ]
  },
  {
   "cell_type": "code",
   "execution_count": 25,
   "metadata": {},
   "outputs": [
    {
     "name": "stdout",
     "output_type": "stream",
     "text": [
      "           Date       Close  Sentiment  Daily Returns\n",
      "0    2020-04-27  118.800003   0.350000            NaN\n",
      "1    2020-04-27  118.800003  -0.250000            0.0\n",
      "2    2020-04-27  118.800003   0.000000            0.0\n",
      "3    2020-04-27  118.800003   0.400000            0.0\n",
      "4    2020-04-27  118.800003   0.000000            0.0\n",
      "..          ...         ...        ...            ...\n",
      "260  2020-06-10  132.372498   0.433333            0.0\n",
      "261  2020-06-10  132.372498   0.500000            0.0\n",
      "262  2020-06-10  132.372498   0.227273            0.0\n",
      "263  2020-06-10  132.372498   0.068182            0.0\n",
      "264  2020-06-10  132.372498   0.000000            0.0\n",
      "\n",
      "[265 rows x 4 columns]\n"
     ]
    }
   ],
   "source": [
    "print(amzn_data)"
   ]
  },
  {
   "cell_type": "markdown",
   "metadata": {},
   "source": [
    "## Correlation Analysis for GOOG"
   ]
  },
  {
   "cell_type": "code",
   "execution_count": 42,
   "metadata": {},
   "outputs": [
    {
     "name": "stdout",
     "output_type": "stream",
     "text": [
      "GOOG Data:              Date      Open      High       Low     Close  Adj Close  \\\n",
      "290412 2004-08-19  2.490664  2.591785  2.390042  2.499133   2.496292   \n",
      "290413 2004-08-20  2.515820  2.716817  2.503118  2.697639   2.694573   \n",
      "290414 2004-08-23  2.758411  2.826406  2.716070  2.724787   2.721690   \n",
      "290415 2004-08-24  2.770615  2.779581  2.579581  2.611960   2.608991   \n",
      "290416 2004-08-25  2.614201  2.689918  2.587302  2.640104   2.637103   \n",
      "\n",
      "           Volume  Dividends  Stock Splits Ticker  \n",
      "290412  897427216        0.0           0.0   GOOG  \n",
      "290413  458857488        0.0           0.0   GOOG  \n",
      "290414  366857939        0.0           0.0   GOOG  \n",
      "290415  306396159        0.0           0.0   GOOG  \n",
      "290416  184645512        0.0           0.0   GOOG  \n"
     ]
    }
   ],
   "source": [
    "# Example: Filter data for a specific stock ticker ('AAPL')\n",
    "goog_data = combined_data[combined_data['Ticker'] == 'GOOG']\n",
    "print(\"GOOG Data:\", goog_data.head())"
   ]
  },
  {
   "cell_type": "code",
   "execution_count": 43,
   "metadata": {},
   "outputs": [
    {
     "name": "stdout",
     "output_type": "stream",
     "text": [
      "Processing data for ticker: GOOG\n"
     ]
    }
   ],
   "source": [
    "from scripts.correlatonal_analyzer import process_ticker_data\n",
    "ticker = 'GOOG'\n",
    "print(f\"Processing data for ticker: {ticker}\")\n",
    "goog_data = process_ticker_data(ticker, combined_data, news_data)"
   ]
  },
  {
   "cell_type": "code",
   "execution_count": 45,
   "metadata": {},
   "outputs": [
    {
     "name": "stdout",
     "output_type": "stream",
     "text": [
      "            Date      Close  Sentiment  Daily Returns\n",
      "0     2018-11-13  51.802502   0.000000            NaN\n",
      "1     2018-11-13  51.802502   0.000000       0.000000\n",
      "2     2018-11-14  52.182999   0.113636       0.007345\n",
      "3     2018-11-14  52.182999   0.000000       0.000000\n",
      "4     2018-11-15  53.235500   0.000000       0.020169\n",
      "...          ...        ...        ...            ...\n",
      "1163  2020-06-09  72.807999   0.000000       0.006602\n",
      "1164  2020-06-09  72.807999   0.133333       0.000000\n",
      "1165  2020-06-10  73.292503   0.033333       0.006655\n",
      "1166  2020-06-10  73.292503   0.000000       0.000000\n",
      "1167  2020-06-10  73.292503   0.000000       0.000000\n",
      "\n",
      "[1168 rows x 4 columns]\n"
     ]
    }
   ],
   "source": [
    "print(goog_data)"
   ]
  },
  {
   "cell_type": "markdown",
   "metadata": {},
   "source": [
    "## Correlation for META"
   ]
  },
  {
   "cell_type": "code",
   "execution_count": 46,
   "metadata": {},
   "outputs": [
    {
     "name": "stdout",
     "output_type": "stream",
     "text": [
      "META Data:              Date       Open       High        Low      Close  Adj Close  \\\n",
      "295432 2012-12-12  28.000000  28.139999  27.370001  27.580000  27.523441   \n",
      "295433 2012-12-13  27.590000  28.750000  27.430000  28.240000  28.182087   \n",
      "295434 2012-12-14  28.180000  28.330000  26.760000  26.809999  26.755020   \n",
      "295435 2012-12-17  26.770000  27.000000  26.320000  26.750000  26.695143   \n",
      "295436 2012-12-18  26.959999  27.910000  26.900000  27.709999  27.653173   \n",
      "\n",
      "          Volume  Dividends  Stock Splits Ticker  \n",
      "295432  46704200        0.0           0.0   META  \n",
      "295433  81051600        0.0           0.0   META  \n",
      "295434  91631600        0.0           0.0   META  \n",
      "295435  57742500        0.0           0.0   META  \n",
      "295436  60512900        0.0           0.0   META  \n"
     ]
    }
   ],
   "source": [
    "# Example: Filter data for a specific stock ticker\n",
    "meta_data = combined_data[combined_data['Ticker'] == 'META']\n",
    "print(\"META Data:\", meta_data.head())"
   ]
  },
  {
   "cell_type": "code",
   "execution_count": 47,
   "metadata": {},
   "outputs": [
    {
     "name": "stdout",
     "output_type": "stream",
     "text": [
      "Processing data for ticker: META\n"
     ]
    }
   ],
   "source": [
    "from scripts.correlatonal_analyzer import process_ticker_data\n",
    "ticker = 'META'\n",
    "print(f\"Processing data for ticker: {ticker}\")\n",
    "meta_data = process_ticker_data(ticker, combined_data, news_data)"
   ]
  },
  {
   "cell_type": "code",
   "execution_count": 48,
   "metadata": {},
   "outputs": [
    {
     "name": "stdout",
     "output_type": "stream",
     "text": [
      "Empty DataFrame\n",
      "Columns: [Date, Close, Sentiment, Daily Returns]\n",
      "Index: []\n"
     ]
    }
   ],
   "source": [
    "print(meta_data)"
   ]
  },
  {
   "cell_type": "markdown",
   "metadata": {},
   "source": [
    "## correlation for MSFT\n"
   ]
  },
  {
   "cell_type": "code",
   "execution_count": 52,
   "metadata": {},
   "outputs": [
    {
     "name": "stdout",
     "output_type": "stream",
     "text": [
      "MSFT Data:              Date      Open      High       Low     Close  Adj Close  \\\n",
      "298358 1986-03-13  0.088542  0.101563  0.088542  0.097222   0.059946   \n",
      "298359 1986-03-14  0.097222  0.102431  0.097222  0.100694   0.062087   \n",
      "298360 1986-03-17  0.100694  0.103299  0.100694  0.102431   0.063158   \n",
      "298361 1986-03-18  0.102431  0.103299  0.098958  0.099826   0.061552   \n",
      "298362 1986-03-19  0.099826  0.100694  0.097222  0.098090   0.060482   \n",
      "\n",
      "            Volume  Dividends  Stock Splits Ticker  \n",
      "298358  1031788800        0.0           0.0   MSFT  \n",
      "298359   308160000        0.0           0.0   MSFT  \n",
      "298360   133171200        0.0           0.0   MSFT  \n",
      "298361    67766400        0.0           0.0   MSFT  \n",
      "298362    47894400        0.0           0.0   MSFT  \n"
     ]
    }
   ],
   "source": [
    "# Example: Filter data for a specific stock ticker\n",
    "msft_data = combined_data[combined_data['Ticker'] == 'MSFT']\n",
    "print(\"MSFT Data:\", msft_data.head())"
   ]
  },
  {
   "cell_type": "code",
   "execution_count": 59,
   "metadata": {},
   "outputs": [
    {
     "name": "stdout",
     "output_type": "stream",
     "text": [
      "Processing data for ticker: MSFT\n"
     ]
    }
   ],
   "source": [
    "from scripts.correlatonal_analyzer import process_ticker_data\n",
    "ticker = 'MSFT'\n",
    "print(f\"Processing data for ticker: {ticker}\")\n",
    "msft_data = process_ticker_data(ticker, combined_data, news_data)"
   ]
  },
  {
   "cell_type": "code",
   "execution_count": 60,
   "metadata": {},
   "outputs": [
    {
     "name": "stdout",
     "output_type": "stream",
     "text": [
      "Empty DataFrame\n",
      "Columns: [Date, Close, Sentiment, Daily Returns]\n",
      "Index: []\n"
     ]
    }
   ],
   "source": [
    "print(msft_data)"
   ]
  },
  {
   "cell_type": "markdown",
   "metadata": {},
   "source": [
    "## Correlation for NVDA\n"
   ]
  },
  {
   "cell_type": "code",
   "execution_count": 61,
   "metadata": {},
   "outputs": [
    {
     "name": "stdout",
     "output_type": "stream",
     "text": [
      "NVDA Data:              Date      Open      High       Low     Close  Adj Close  \\\n",
      "308030 1999-01-22  0.043750  0.048828  0.038802  0.041016   0.037621   \n",
      "308031 1999-01-25  0.044271  0.045833  0.041016  0.045313   0.041562   \n",
      "308032 1999-01-26  0.045833  0.046745  0.041146  0.041797   0.038337   \n",
      "308033 1999-01-27  0.041927  0.042969  0.039583  0.041667   0.038218   \n",
      "308034 1999-01-28  0.041667  0.041927  0.041276  0.041536   0.038098   \n",
      "\n",
      "            Volume  Dividends  Stock Splits Ticker  \n",
      "308030  2714688000        0.0           0.0   NVDA  \n",
      "308031   510480000        0.0           0.0   NVDA  \n",
      "308032   343200000        0.0           0.0   NVDA  \n",
      "308033   244368000        0.0           0.0   NVDA  \n",
      "308034   227520000        0.0           0.0   NVDA  \n"
     ]
    }
   ],
   "source": [
    "# Example: Filter data for a specific stock ticker \n",
    "nvda_data = combined_data[combined_data['Ticker'] == 'NVDA']\n",
    "print(\"NVDA Data:\", nvda_data.head())"
   ]
  },
  {
   "cell_type": "code",
   "execution_count": null,
   "metadata": {},
   "outputs": [
    {
     "name": "stdout",
     "output_type": "stream",
     "text": [
      "Processing data for ticker: NVDA\n"
     ]
    }
   ],
   "source": [
    "# Example: Filter data for a specific stock ticker\n",
    "from scripts.correlatonal_analyzer import process_ticker_data\n",
    "ticker = 'NVDA'\n",
    "print(f\"Processing data for ticker: {ticker}\")\n",
    "nvda_data = process_ticker_data(ticker, combined_data, news_data)"
   ]
  },
  {
   "cell_type": "code",
   "execution_count": 64,
   "metadata": {},
   "outputs": [
    {
     "name": "stdout",
     "output_type": "stream",
     "text": [
      "            Date    Close  Sentiment  Daily Returns\n",
      "0     2011-03-03  0.52175   -0.30000            NaN\n",
      "1     2011-03-07  0.51175    0.00000      -0.019166\n",
      "2     2011-03-07  0.51175   -0.25000       0.000000\n",
      "3     2011-03-08  0.48875   -0.50000      -0.044944\n",
      "4     2011-03-08  0.48875    0.50000       0.000000\n",
      "...          ...      ...        ...            ...\n",
      "3065  2020-06-08  8.80500    0.00000       0.000000\n",
      "3066  2020-06-09  9.04600    0.26250       0.027371\n",
      "3067  2020-06-10  9.36675    0.08125       0.035458\n",
      "3068  2020-06-10  9.36675    0.00000       0.000000\n",
      "3069  2020-06-10  9.36675    0.00000       0.000000\n",
      "\n",
      "[3070 rows x 4 columns]\n"
     ]
    }
   ],
   "source": [
    "print(nvda_data)"
   ]
  },
  {
   "cell_type": "markdown",
   "metadata": {},
   "source": [
    "## Corralation for TSLA"
   ]
  },
  {
   "cell_type": "code",
   "execution_count": 65,
   "metadata": {},
   "outputs": [
    {
     "name": "stdout",
     "output_type": "stream",
     "text": [
      "TSLA Data:              Date      Open      High       Low     Close  Adj Close  \\\n",
      "314451 2010-06-29  1.266667  1.666667  1.169333  1.592667   1.592667   \n",
      "314452 2010-06-30  1.719333  2.028000  1.553333  1.588667   1.588667   \n",
      "314453 2010-07-01  1.666667  1.728000  1.351333  1.464000   1.464000   \n",
      "314454 2010-07-02  1.533333  1.540000  1.247333  1.280000   1.280000   \n",
      "314455 2010-07-06  1.333333  1.333333  1.055333  1.074000   1.074000   \n",
      "\n",
      "           Volume  Dividends  Stock Splits Ticker  \n",
      "314451  281494500        0.0           0.0   TSLA  \n",
      "314452  257806500        0.0           0.0   TSLA  \n",
      "314453  123282000        0.0           0.0   TSLA  \n",
      "314454   77097000        0.0           0.0   TSLA  \n",
      "314455  103003500        0.0           0.0   TSLA  \n"
     ]
    }
   ],
   "source": [
    "# Example: Filter data for a specific stock ticker\n",
    "tsla_data = combined_data[combined_data['Ticker'] == 'TSLA']\n",
    "print(\"TSLA Data:\", tsla_data.head())"
   ]
  },
  {
   "cell_type": "code",
   "execution_count": 69,
   "metadata": {},
   "outputs": [
    {
     "name": "stdout",
     "output_type": "stream",
     "text": [
      "Processing data for ticker: TSLA\n",
      "         Date      Close  Sentiment  Daily Returns\n",
      "0  2019-07-01  15.144667   0.000000            NaN\n",
      "1  2019-07-01  15.144667   0.000000       0.000000\n",
      "2  2019-07-01  15.144667   0.066667       0.000000\n",
      "3  2019-07-01  15.144667   0.250000       0.000000\n",
      "4  2019-07-02  14.970000   0.000000      -0.011533\n",
      "5  2019-07-02  14.970000   0.075000       0.000000\n",
      "6  2019-07-02  14.970000   0.250000       0.000000\n",
      "7  2019-07-02  14.970000   0.000000       0.000000\n",
      "8  2019-07-02  14.970000   0.000000       0.000000\n",
      "9  2019-07-02  14.970000   0.000000       0.000000\n"
     ]
    }
   ],
   "source": [
    "# Example: Filter data for a specific stock ticker ('AAPL')\n",
    "from scripts.correlatonal_analyzer import process_ticker_data\n",
    "ticker = 'TSLA'\n",
    "print(f\"Processing data for ticker: {ticker}\")\n",
    "tsla_data = process_ticker_data(ticker, combined_data, news_data)\n",
    "print(tsla_data.head(10))"
   ]
  },
  {
   "cell_type": "code",
   "execution_count": 67,
   "metadata": {},
   "outputs": [
    {
     "name": "stdout",
     "output_type": "stream",
     "text": [
      "            Date      Close  Sentiment  Daily Returns\n",
      "0     2019-07-01  15.144667   0.000000            NaN\n",
      "1     2019-07-01  15.144667   0.000000       0.000000\n",
      "2     2019-07-01  15.144667   0.066667       0.000000\n",
      "3     2019-07-01  15.144667   0.250000       0.000000\n",
      "4     2019-07-02  14.970000   0.000000      -0.011533\n",
      "...          ...        ...        ...            ...\n",
      "1780  2020-06-10  68.336670   0.148182       0.000000\n",
      "1781  2020-06-10  68.336670  -0.400000       0.000000\n",
      "1782  2020-06-10  68.336670   0.000000       0.000000\n",
      "1783  2020-06-10  68.336670   0.000000       0.000000\n",
      "1784  2020-06-10  68.336670   0.250000       0.000000\n",
      "\n",
      "[1785 rows x 4 columns]\n"
     ]
    }
   ],
   "source": [
    "print(tsla_data)"
   ]
  }
 ],
 "metadata": {
  "kernelspec": {
   "display_name": "week1venv",
   "language": "python",
   "name": "python3"
  },
  "language_info": {
   "codemirror_mode": {
    "name": "ipython",
    "version": 3
   },
   "file_extension": ".py",
   "mimetype": "text/x-python",
   "name": "python",
   "nbconvert_exporter": "python",
   "pygments_lexer": "ipython3",
   "version": "3.12.0"
  }
 },
 "nbformat": 4,
 "nbformat_minor": 2
}
